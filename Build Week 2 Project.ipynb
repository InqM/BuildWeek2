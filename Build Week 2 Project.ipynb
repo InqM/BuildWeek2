{
 "cells": [
  {
   "cell_type": "markdown",
   "metadata": {},
   "source": [
    "# Perdicting Credit Card Fraud using Perdictive Modeling"
   ]
  },
  {
   "cell_type": "code",
   "execution_count": 1,
   "metadata": {},
   "outputs": [],
   "source": [
    "import pandas as pd\n",
    "import numpy as np\n",
    "\n",
    "from datetime import datetime\n",
    "from dateutil.relativedelta import relativedelta\n",
    "\n",
    "from sklearn.model_selection import train_test_split\n",
    "\n",
    "from sklearn.pipeline import make_pipeline, Pipeline\n",
    "from sklearn.ensemble import RandomForestClassifier\n",
    "from sklearn.linear_model import LogisticRegression\n",
    "from sklearn.preprocessing import StandardScaler\n",
    "from category_encoders import OneHotEncoder, OrdinalEncoder\n",
    "\n",
    "from sklearn.metrics import plot_confusion_matrix\n",
    "\n",
    "import matplotlib.pyplot as plt\n",
    "\n",
    "from scipy.stats import zscore"
   ]
  },
  {
   "cell_type": "markdown",
   "metadata": {},
   "source": [
    "## I. Data Wrangling "
   ]
  },
  {
   "cell_type": "markdown",
   "metadata": {},
   "source": [
    "### Subsetting the initial dataset\n",
    "\n",
    "As the original dataset contained over a million observations I could not load it into github. Instead I loaded it in from my own machine and subsetted the data set to a proportionate size. This function should not be called again but was kept to show this unique component of data wrangling."
   ]
  },
  {
   "cell_type": "code",
   "execution_count": 2,
   "metadata": {},
   "outputs": [],
   "source": [
    "def make_subset():\n",
    "    train = pd.read_csv(r\"C:\\Users\\97mko\\Documents\\fraudTrain.csv\")\n",
    "    train_subset = train.sample(n = 75000, random_state = 97)\n",
    "    train_subset.to_csv('FraudTrainRandomSubset97.csv');\n",
    "    \n",
    "    test = pd.read_csv(r\"C:\\Users\\97mko\\Documents\\fraudTest.csv\")    \n",
    "    test_subset = test.sample(n = 25000, random_state = 97)\n",
    "    test_subset.to_csv('FraudTestRandomSubset97.csv');"
   ]
  },
  {
   "cell_type": "code",
   "execution_count": 3,
   "metadata": {},
   "outputs": [],
   "source": [
    "df = pd.read_csv(\"https://raw.githubusercontent.com/InqM/BuildWeek2/main/FraudTrainRandomSubset97.csv\")\n",
    "\n",
    "def wrangle(df):\n",
    "    \n",
    "    #Converting time of transaction to index transaction time will be used for a later feature.\n",
    "    df['trans_date_trans_time'] = pd.to_datetime(df['trans_date_trans_time'], format='%Y-%m-%d')\n",
    "    df.index = df['trans_date_trans_time']\n",
    "    \n",
    "    #Dropping non distinct columns:\n",
    "    df = df.drop(columns = ['Unnamed: 0', 'Unnamed: 0.1', 'trans_num', 'unix_time'])\n",
    "    \n",
    "    #A feature that has age from dob and transaction date time:\n",
    "    df['dob'] = pd.to_datetime(df['dob'], format='%Y-%m-%d')\n",
    "    df['age'] = df.apply(lambda x: relativedelta(x.trans_date_trans_time, x.dob), axis=1).apply(lambda x: x.years)\n",
    "    df = df.drop(columns = ['dob', 'trans_date_trans_time'])\n",
    "    \n",
    "    #Dropping columns that are either redundant or close to being so:\n",
    "    #First Last and cc_num will be represented by street while city will be represented by zip.\n",
    "    df = df.drop(columns = ['first', 'last', 'cc_num', 'city'])\n",
    "    \n",
    "    #Converting categorical int values into objects.\n",
    "    df['zip'] = df['zip'].astype('object')\n",
    "    \n",
    "    return df\n",
    "    \n",
    "df = wrangle(df)"
   ]
  },
  {
   "cell_type": "markdown",
   "metadata": {},
   "source": [
    "As a side note I would like to mention that as this dataset was generated through a github simulation and also by virtue of how this information may be generated naturally there are no missing values. Additionally none of the features I have been giving would suggest causing data leakage."
   ]
  },
  {
   "cell_type": "markdown",
   "metadata": {},
   "source": [
    "## II. Split Data\n",
    "My target column was an easy decision. As I am trying to determine credit card fraud I am using the \"is_fraud\" column. This would be a classification problem as there is only two categories determining whether or not the category is fraud."
   ]
  },
  {
   "cell_type": "code",
   "execution_count": 4,
   "metadata": {},
   "outputs": [],
   "source": [
    "X = df.drop(columns = 'is_fraud')\n",
    "y = df['is_fraud']\n",
    "\n",
    "X_train, X_val, y_train, y_val = train_test_split(X, y, test_size=0.2, random_state=42)"
   ]
  },
  {
   "cell_type": "markdown",
   "metadata": {},
   "source": [
    "## III. Establish Baseline"
   ]
  },
  {
   "cell_type": "code",
   "execution_count": 5,
   "metadata": {},
   "outputs": [
    {
     "name": "stdout",
     "output_type": "stream",
     "text": [
      "Baseline accuracy: 0.99468\n"
     ]
    }
   ],
   "source": [
    "baseline_acc = df['is_fraud'].value_counts()[0]/df['is_fraud'].size\n",
    "print('Baseline Accuracy:', str(baseline_acc))"
   ]
  },
  {
   "cell_type": "markdown",
   "metadata": {},
   "source": [
    "## IV. Building Models"
   ]
  },
  {
   "cell_type": "markdown",
   "metadata": {},
   "source": [
    "### Random Forest Model\n",
    "This is ultimately the model I decided to stick with not only due to a better performance but also as it runs much faster that the linear regression model. To improve at after my initial test I added additional estimators."
   ]
  },
  {
   "cell_type": "code",
   "execution_count": 6,
   "metadata": {},
   "outputs": [],
   "source": [
    "model_rf = make_pipeline(\n",
    "    OrdinalEncoder(),\n",
    "    RandomForestClassifier(n_estimators = 50,\n",
    "                           random_state = 42,\n",
    "                           n_jobs = -1)\n",
    ")\n",
    "\n",
    "model_rf.fit(X_train, y_train);"
   ]
  },
  {
   "cell_type": "markdown",
   "metadata": {},
   "source": [
    "### Logistic Regression Model\n",
    "A note for this model is that the Logistic Regression function has a default max iteration of 100. At this number my model would however reach that cap and consequently produce an error message so I had increased it to 1000. I am not sure the exact number needed and I did not look into it as this is the model I did not end up using this model."
   ]
  },
  {
   "cell_type": "code",
   "execution_count": 7,
   "metadata": {},
   "outputs": [
    {
     "name": "stderr",
     "output_type": "stream",
     "text": [
      "c:\\users\\97mko\\.virtualenvs\\ds-unit-2-applied-modeling-kpfik8dc\\lib\\site-packages\\category_encoders\\utils.py:21: FutureWarning: is_categorical is deprecated and will be removed in a future version.  Use is_categorical_dtype instead\n",
      "  elif pd.api.types.is_categorical(cols):\n"
     ]
    }
   ],
   "source": [
    "model_lr = make_pipeline(\n",
    "    OneHotEncoder(use_cat_names = True),\n",
    "    StandardScaler(),    \n",
    "    LogisticRegression(random_state = 42, max_iter = 1000)\n",
    ")\n",
    "\n",
    "model_lr.fit(X_train, y_train);"
   ]
  },
  {
   "cell_type": "markdown",
   "metadata": {},
   "source": [
    "## V. Check Metrics"
   ]
  },
  {
   "cell_type": "markdown",
   "metadata": {},
   "source": [
    "### Accuracy Score\n"
   ]
  },
  {
   "cell_type": "code",
   "execution_count": 15,
   "metadata": {},
   "outputs": [
    {
     "name": "stdout",
     "output_type": "stream",
     "text": [
      "Training Accuracy (RF): 0.9999833333333333\n",
      "Validation Accuracy (RF): 0.9968666666666667\n",
      "Training Accuracy (LOGR): 0.9971833333333333\n",
      "Validation Accuracy (LOGR): 0.9937333333333334\n"
     ]
    }
   ],
   "source": [
    "print('Random Forest Training Accuracy:', model_rf.score(X_train, y_train))\n",
    "print('Random Forest Validation Accuracy:', model_rf.score(X_val, y_val))\n",
    "print('Logistic Regression Training Accuracy:', model_lr.score(X_train, y_train))\n",
    "print('Logistic Regression Validation Accuracy:', model_lr.score(X_val, y_val))"
   ]
  },
  {
   "cell_type": "markdown",
   "metadata": {},
   "source": [
    "Initially and perhaps out of habit I immediately went to test the accuracy to make sure it beat the baseline. Only the Random Forest Model surpassed the baseline however the importance of this score comes secondary to the recall score..."
   ]
  },
  {
   "cell_type": "markdown",
   "metadata": {},
   "source": [
    "### Recall Score "
   ]
  },
  {
   "cell_type": "code",
   "execution_count": 9,
   "metadata": {
    "scrolled": true
   },
   "outputs": [
    {
     "data": {
      "image/png": "[encoded data removed]",
      "text/plain": [
       "<Figure size 432x288 with 2 Axes>"
      ]
     },
     "metadata": {
      "needs_background": "light"
     },
     "output_type": "display_data"
    },
    {
     "data": {
      "image/png": "[encoded data removed]",
      "text/plain": [
       "<Figure size 432x288 with 2 Axes>"
      ]
     },
     "metadata": {
      "needs_background": "light"
     },
     "output_type": "display_data"
    }
   ],
   "source": [
    "plot_confusion_matrix(model_rf, X_val, y_val);\n",
    "plot_confusion_matrix(model_lr, X_val, y_val);"
   ]
  },
  {
   "cell_type": "markdown",
   "metadata": {},
   "source": [
    "As a false a positive is more important to detect we divide the correct perdictions of this by the incorrect perdictions."
   ]
  },
  {
   "cell_type": "code",
   "execution_count": 19,
   "metadata": {},
   "outputs": [
    {
     "name": "stdout",
     "output_type": "stream",
     "text": [
      "Random Forest Recall Score: 0.4533333333333333\n",
      "Logestic Regression Recall Score: 0.16\n"
     ]
    }
   ],
   "source": [
    "print('Random Forest Recall Score:', str(34/(41+34)))\n",
    "print('Logestic Regression Recall Score:', str(12/(63+12)))"
   ]
  },
  {
   "cell_type": "markdown",
   "metadata": {},
   "source": [
    "Once again the Random Forest out preforms the Linear Regression and as the latter model also takes longer to execute from here on out I will use the test set on my Random Forest model and try to focus on improving that one.\n"
   ]
  },
  {
   "cell_type": "code",
   "execution_count": 16,
   "metadata": {},
   "outputs": [
    {
     "name": "stdout",
     "output_type": "stream",
     "text": [
      "Test Accuracy (RF): 0.99744\n"
     ]
    },
    {
     "data": {
      "image/png": "[encoded data removed]",
      "text/plain": [
       "<Figure size 432x288 with 2 Axes>"
      ]
     },
     "metadata": {
      "needs_background": "light"
     },
     "output_type": "display_data"
    }
   ],
   "source": [
    "test = pd.read_csv(\"https://raw.githubusercontent.com/InqM/BuildWeek2/main/FraudTestRandomSubset97.csv\")\n",
    "test = wrangle(test)\n",
    "X_test = test.drop(columns = 'is_fraud')\n",
    "y_test = test['is_fraud']\n",
    "print('Test Accuracy (RF):', model_rf.score(X_test, y_test))\n",
    "plot_confusion_matrix(model_rf, X_test, y_test);"
   ]
  },
  {
   "cell_type": "code",
   "execution_count": 20,
   "metadata": {},
   "outputs": [
    {
     "name": "stdout",
     "output_type": "stream",
     "text": [
      "Test Recall Score: 0.4020618556701031\n"
     ]
    }
   ],
   "source": [
    "print('Test Recall Score:', str(39/(58+39)))"
   ]
  },
  {
   "cell_type": "markdown",
   "metadata": {},
   "source": [
    "As a solution to a real world problem I would not consider a recall score of 40% to be an effective model as false positives are highly preferable to false negatives."
   ]
  },
  {
   "cell_type": "markdown",
   "metadata": {},
   "source": [
    "### Feature Importances \n",
    "As there are in total 14 features in my model I decide not to display the top N features as it would be easy to read every category and as shown below I find that each category does have some level of feature importances"
   ]
  },
  {
   "cell_type": "code",
   "execution_count": 12,
   "metadata": {},
   "outputs": [
    {
     "data": {
      "image/png": "[encoded data removed]",
      "text/plain": [
       "<Figure size 432x288 with 1 Axes>"
      ]
     },
     "metadata": {
      "needs_background": "light"
     },
     "output_type": "display_data"
    }
   ],
   "source": [
    "importances = pd.Series(model_rf.steps[1][1].feature_importances_, X.columns).sort_values(ascending = True)\n",
    "plt.figure\n",
    "plt.title(f'Feature Importances')\n",
    "importances.plot.barh();"
   ]
  },
  {
   "cell_type": "markdown",
   "metadata": {},
   "source": [
    "### Addition Feature Engineering\n",
    "While my model may be ineffective in its current state I am not satisfied with this conclusion and attempt to generate additional features in order to hopefully improve model performance."
   ]
  },
  {
   "cell_type": "code",
   "execution_count": 22,
   "metadata": {},
   "outputs": [],
   "source": [
    "def add_features(df):\n",
    "    #Evaluating zscore in order to determine outliers of amount.\n",
    "    df['is_outlier'] = zscore(df['amt']) > 3\n",
    "    return df\n",
    "\n",
    "df = add_features(df)"
   ]
  },
  {
   "cell_type": "code",
   "execution_count": 25,
   "metadata": {},
   "outputs": [
    {
     "data": {
      "text/html": [
       "<div>\n",
       "<style scoped>\n",
       "    .dataframe tbody tr th:only-of-type {\n",
       "        vertical-align: middle;\n",
       "    }\n",
       "\n",
       "    .dataframe tbody tr th {\n",
       "        vertical-align: top;\n",
       "    }\n",
       "\n",
       "    .dataframe thead th {\n",
       "        text-align: right;\n",
       "    }\n",
       "</style>\n",
       "<table border=\"1\" class=\"dataframe\">\n",
       "  <thead>\n",
       "    <tr style=\"text-align: right;\">\n",
       "      <th>is_fraud</th>\n",
       "      <th>0</th>\n",
       "      <th>1</th>\n",
       "      <th>All</th>\n",
       "    </tr>\n",
       "    <tr>\n",
       "      <th>is_outlier</th>\n",
       "      <th></th>\n",
       "      <th></th>\n",
       "      <th></th>\n",
       "    </tr>\n",
       "  </thead>\n",
       "  <tbody>\n",
       "    <tr>\n",
       "      <th>False</th>\n",
       "      <td>49.631372</td>\n",
       "      <td>26.315789</td>\n",
       "      <td>49.507333</td>\n",
       "    </tr>\n",
       "    <tr>\n",
       "      <th>True</th>\n",
       "      <td>0.368628</td>\n",
       "      <td>23.684211</td>\n",
       "      <td>0.492667</td>\n",
       "    </tr>\n",
       "    <tr>\n",
       "      <th>All</th>\n",
       "      <td>50.000000</td>\n",
       "      <td>50.000000</td>\n",
       "      <td>50.000000</td>\n",
       "    </tr>\n",
       "  </tbody>\n",
       "</table>\n",
       "</div>"
      ],
      "text/plain": [
       "is_fraud            0          1        All\n",
       "is_outlier                                 \n",
       "False       49.631372  26.315789  49.507333\n",
       "True         0.368628  23.684211   0.492667\n",
       "All         50.000000  50.000000  50.000000"
      ]
     },
     "execution_count": 25,
     "metadata": {},
     "output_type": "execute_result"
    }
   ],
   "source": [
    "outlier_vs_fraud = pd.crosstab(df['is_outlier'], df['is_fraud'], margins = True)\n",
    "\n",
    "#This multiplication and division is used to convert the crosstab into a percentage.\n",
    "outlier_vs_fraud = outlier_vs_fraud/outlier_vs_fraud.sum()*100\n",
    "\n",
    "outlier_vs_fraud"
   ]
  },
  {
   "cell_type": "code",
   "execution_count": 33,
   "metadata": {},
   "outputs": [
    {
     "data": {
      "text/html": [
       "<div>\n",
       "<style scoped>\n",
       "    .dataframe tbody tr th:only-of-type {\n",
       "        vertical-align: middle;\n",
       "    }\n",
       "\n",
       "    .dataframe tbody tr th {\n",
       "        vertical-align: top;\n",
       "    }\n",
       "\n",
       "    .dataframe thead th {\n",
       "        text-align: right;\n",
       "    }\n",
       "</style>\n",
       "<table border=\"1\" class=\"dataframe\">\n",
       "  <thead>\n",
       "    <tr style=\"text-align: right;\">\n",
       "      <th>is_fraud</th>\n",
       "      <th>0</th>\n",
       "      <th>1</th>\n",
       "      <th>All</th>\n",
       "    </tr>\n",
       "    <tr>\n",
       "      <th>is_outlier</th>\n",
       "      <th></th>\n",
       "      <th></th>\n",
       "      <th></th>\n",
       "    </tr>\n",
       "  </thead>\n",
       "  <tbody>\n",
       "    <tr>\n",
       "      <th>False</th>\n",
       "      <td>49.50006</td>\n",
       "      <td>26.28866</td>\n",
       "      <td>49.41</td>\n",
       "    </tr>\n",
       "    <tr>\n",
       "      <th>True</th>\n",
       "      <td>0.49994</td>\n",
       "      <td>23.71134</td>\n",
       "      <td>0.59</td>\n",
       "    </tr>\n",
       "    <tr>\n",
       "      <th>All</th>\n",
       "      <td>50.00000</td>\n",
       "      <td>50.00000</td>\n",
       "      <td>50.00</td>\n",
       "    </tr>\n",
       "  </tbody>\n",
       "</table>\n",
       "</div>"
      ],
      "text/plain": [
       "is_fraud           0         1    All\n",
       "is_outlier                           \n",
       "False       49.50006  26.28866  49.41\n",
       "True         0.49994  23.71134   0.59\n",
       "All         50.00000  50.00000  50.00"
      ]
     },
     "execution_count": 33,
     "metadata": {},
     "output_type": "execute_result"
    }
   ],
   "source": [
    "outlier_vs_fraud = pd.crosstab(test['is_outlier'], test['is_fraud'], margins = True)\n",
    "\n",
    "#This multiplication and division is used to convert the crosstab into a percentage.\n",
    "outlier_vs_fraud = outlier_vs_fraud/outlier_vs_fraud.sum()*100\n",
    "\n",
    "outlier_vs_fraud"
   ]
  },
  {
   "cell_type": "markdown",
   "metadata": {},
   "source": [
    "The above crosstab shows that an outlier in amount has a very large correlation with the presence of fraud. This feature alone would produce an accuracy on both the training and then the test set of over 47% better than my current model."
   ]
  },
  {
   "cell_type": "code",
   "execution_count": 30,
   "metadata": {
    "scrolled": true
   },
   "outputs": [
    {
     "name": "stderr",
     "output_type": "stream",
     "text": [
      "c:\\users\\97mko\\.virtualenvs\\ds-unit-2-applied-modeling-kpfik8dc\\lib\\site-packages\\category_encoders\\utils.py:21: FutureWarning: is_categorical is deprecated and will be removed in a future version.  Use is_categorical_dtype instead\n",
      "  elif pd.api.types.is_categorical(cols):\n",
      "c:\\users\\97mko\\.virtualenvs\\ds-unit-2-applied-modeling-kpfik8dc\\lib\\site-packages\\category_encoders\\utils.py:21: FutureWarning: is_categorical is deprecated and will be removed in a future version.  Use is_categorical_dtype instead\n",
      "  elif pd.api.types.is_categorical(cols):\n"
     ]
    },
    {
     "data": {
      "image/png": "[encoded data removed]",
      "text/plain": [
       "<Figure size 432x288 with 2 Axes>"
      ]
     },
     "metadata": {
      "needs_background": "light"
     },
     "output_type": "display_data"
    }
   ],
   "source": [
    "#Split the data with the new feature\n",
    "X = df.drop(columns = 'is_fraud')\n",
    "y = df['is_fraud']\n",
    "\n",
    "model_rf.fit(X_train, y_train);\n",
    "#Refit the model\n",
    "model_rf.fit(X, y);\n",
    "\n",
    "#Add the feature to the test data and split\n",
    "test = add_features(test)\n",
    "X_test = test.drop(columns = 'is_fraud')\n",
    "y_test = test['is_fraud']\n",
    "\n",
    "#Report the results\n",
    "plot_confusion_matrix(model_rf, X_test, y_test);"
   ]
  },
  {
   "cell_type": "markdown",
   "metadata": {},
   "source": [
    "This does not improve the model actually making it slightly worse possibly due to the large number of other features. "
   ]
  }
 ],
 "metadata": {
  "kernelspec": {
   "display_name": "Python 3",
   "language": "python",
   "name": "python3"
  },
  "language_info": {
   "codemirror_mode": {
    "name": "ipython",
    "version": 3
   },
   "file_extension": ".py",
   "mimetype": "text/x-python",
   "name": "python",
   "nbconvert_exporter": "python",
   "pygments_lexer": "ipython3",
   "version": "3.8.6"
  }
 },
 "nbformat": 4,
 "nbformat_minor": 4
}
